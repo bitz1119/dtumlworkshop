{
  "nbformat": 4,
  "nbformat_minor": 0,
  "metadata": {
    "colab": {
      "name": "Untitled22.ipynb",
      "version": "0.3.2",
      "provenance": []
    },
    "kernelspec": {
      "name": "python3",
      "display_name": "Python 3"
    }
  },
  "cells": [
    {
      "cell_type": "code",
      "metadata": {
        "id": "KooehYZ9QE6O",
        "colab_type": "code",
        "colab": {
          "base_uri": "https://localhost:8080/",
          "height": 54
        },
        "outputId": "a0e1cf7c-6f79-43ba-e453-9a80e386f9a3"
      },
      "source": [
        "print(\"hello world\")\n",
        "print(\"welcome to ml class\")"
      ],
      "execution_count": 2,
      "outputs": [
        {
          "output_type": "stream",
          "text": [
            "hello world\n",
            "welcome to ml class\n"
          ],
          "name": "stdout"
        }
      ]
    },
    {
      "cell_type": "code",
      "metadata": {
        "id": "MyL4Ry_kRP5v",
        "colab_type": "code",
        "colab": {
          "base_uri": "https://localhost:8080/",
          "height": 220
        },
        "outputId": "6d282902-6eaf-4694-830a-569899ecfd84"
      },
      "source": [
        "!wget https://raw.githubusercontent.com/bitz1119/vrsds/master/Untitled%20Folder%201/xdata.csv"
      ],
      "execution_count": 14,
      "outputs": [
        {
          "output_type": "stream",
          "text": [
            "--2019-07-12 05:42:48--  https://raw.githubusercontent.com/bitz1119/vrsds/master/Untitled%20Folder%201/xdata.csv\n",
            "Resolving raw.githubusercontent.com (raw.githubusercontent.com)... 151.101.0.133, 151.101.64.133, 151.101.128.133, ...\n",
            "Connecting to raw.githubusercontent.com (raw.githubusercontent.com)|151.101.0.133|:443... connected.\n",
            "HTTP request sent, awaiting response... 200 OK\n",
            "Length: 16574 (16K) [text/plain]\n",
            "Saving to: ‘xdata.csv’\n",
            "\n",
            "\rxdata.csv             0%[                    ]       0  --.-KB/s               \rxdata.csv           100%[===================>]  16.19K  --.-KB/s    in 0.007s  \n",
            "\n",
            "2019-07-12 05:42:48 (2.26 MB/s) - ‘xdata.csv’ saved [16574/16574]\n",
            "\n"
          ],
          "name": "stdout"
        }
      ]
    },
    {
      "cell_type": "code",
      "metadata": {
        "id": "LRtu5gsMo9g2",
        "colab_type": "code",
        "colab": {}
      },
      "source": [
        " "
      ],
      "execution_count": 0,
      "outputs": []
    },
    {
      "cell_type": "code",
      "metadata": {
        "id": "4A-fg0F7pP4S",
        "colab_type": "code",
        "colab": {
          "base_uri": "https://localhost:8080/",
          "height": 220
        },
        "outputId": "687bd7b4-c9c1-4bf6-ea70-bd1bb36e1fcb"
      },
      "source": [
        "!wget https://raw.githubusercontent.com/bitz1119/vrsds/master/Untitled%20Folder%201/xdata.csv"
      ],
      "execution_count": 9,
      "outputs": [
        {
          "output_type": "stream",
          "text": [
            "--2019-07-12 05:30:28--  https://raw.githubusercontent.com/bitz1119/vrsds/master/Untitled%20Folder%201/xdata.csv\n",
            "Resolving raw.githubusercontent.com (raw.githubusercontent.com)... 151.101.0.133, 151.101.64.133, 151.101.128.133, ...\n",
            "Connecting to raw.githubusercontent.com (raw.githubusercontent.com)|151.101.0.133|:443... connected.\n",
            "HTTP request sent, awaiting response... 200 OK\n",
            "Length: 16574 (16K) [text/plain]\n",
            "Saving to: ‘xdata.csv’\n",
            "\n",
            "\rxdata.csv             0%[                    ]       0  --.-KB/s               \rxdata.csv           100%[===================>]  16.19K  --.-KB/s    in 0.007s  \n",
            "\n",
            "2019-07-12 05:30:28 (2.29 MB/s) - ‘xdata.csv’ saved [16574/16574]\n",
            "\n"
          ],
          "name": "stdout"
        }
      ]
    },
    {
      "cell_type": "code",
      "metadata": {
        "id": "H56tpzDRp-pp",
        "colab_type": "code",
        "colab": {
          "base_uri": "https://localhost:8080/",
          "height": 220
        },
        "outputId": "b8fa92b6-6b9c-4921-f677-31b7e5fa7411"
      },
      "source": [
        "!wget https://raw.githubusercontent.com/bitz1119/vrsds/master/Untitled%20Folder%201/ydata.csv"
      ],
      "execution_count": 10,
      "outputs": [
        {
          "output_type": "stream",
          "text": [
            "--2019-07-12 05:31:16--  https://raw.githubusercontent.com/bitz1119/vrsds/master/Untitled%20Folder%201/ydata.csv\n",
            "Resolving raw.githubusercontent.com (raw.githubusercontent.com)... 151.101.0.133, 151.101.64.133, 151.101.128.133, ...\n",
            "Connecting to raw.githubusercontent.com (raw.githubusercontent.com)|151.101.0.133|:443... connected.\n",
            "HTTP request sent, awaiting response... 200 OK\n",
            "Length: 3090 (3.0K) [text/plain]\n",
            "Saving to: ‘ydata.csv’\n",
            "\n",
            "\rydata.csv             0%[                    ]       0  --.-KB/s               \rydata.csv           100%[===================>]   3.02K  --.-KB/s    in 0s      \n",
            "\n",
            "2019-07-12 05:31:16 (50.1 MB/s) - ‘ydata.csv’ saved [3090/3090]\n",
            "\n"
          ],
          "name": "stdout"
        }
      ]
    },
    {
      "cell_type": "code",
      "metadata": {
        "id": "KRL6WhQgqEeS",
        "colab_type": "code",
        "colab": {}
      },
      "source": [
        "import pandas as pd"
      ],
      "execution_count": 0,
      "outputs": []
    },
    {
      "cell_type": "code",
      "metadata": {
        "id": "VXoM5lDSvQTG",
        "colab_type": "code",
        "colab": {}
      },
      "source": [
        "Xdata = pd.read_csv('./xdata.csv')"
      ],
      "execution_count": 0,
      "outputs": []
    },
    {
      "cell_type": "code",
      "metadata": {
        "id": "XOHOmJRKvb_u",
        "colab_type": "code",
        "colab": {}
      },
      "source": [
        "Ydata =  pd.read_csv('./ydata.csv')"
      ],
      "execution_count": 0,
      "outputs": []
    },
    {
      "cell_type": "code",
      "metadata": {
        "id": "2RM7md67vlK9",
        "colab_type": "code",
        "colab": {}
      },
      "source": [
        "Xdata = Xdata.values"
      ],
      "execution_count": 0,
      "outputs": []
    },
    {
      "cell_type": "code",
      "metadata": {
        "id": "7InSWIECwQ7n",
        "colab_type": "code",
        "colab": {
          "base_uri": "https://localhost:8080/",
          "height": 35
        },
        "outputId": "1e4b9a73-080f-4f17-de9e-5c6080c5c901"
      },
      "source": [
        "type(Xdata)"
      ],
      "execution_count": 22,
      "outputs": [
        {
          "output_type": "execute_result",
          "data": {
            "text/plain": [
              "numpy.ndarray"
            ]
          },
          "metadata": {
            "tags": []
          },
          "execution_count": 22
        }
      ]
    },
    {
      "cell_type": "code",
      "metadata": {
        "id": "cEtYuWDNwZj2",
        "colab_type": "code",
        "colab": {}
      },
      "source": [
        "Xdata = Xdata[:,1:]"
      ],
      "execution_count": 0,
      "outputs": []
    },
    {
      "cell_type": "code",
      "metadata": {
        "id": "-P1_CPE6wf1A",
        "colab_type": "code",
        "colab": {
          "base_uri": "https://localhost:8080/",
          "height": 1000
        },
        "outputId": "7e4af2b7-121f-484a-a048-4cfe28b16477"
      },
      "source": [
        "Xdata"
      ],
      "execution_count": 24,
      "outputs": [
        {
          "output_type": "execute_result",
          "data": {
            "text/plain": [
              "array([[ 3.516279  ,  3.71975047],\n",
              "       [ 4.60649561,  3.41437943],\n",
              "       [ 4.67701056,  3.04724443],\n",
              "       [ 4.15772454,  3.13867678],\n",
              "       [ 3.15443087,  3.61985805],\n",
              "       [ 3.41751854,  4.59164128],\n",
              "       [ 1.61124605,  3.39835595],\n",
              "       [ 4.28808719,  4.04396943],\n",
              "       [ 3.19607968,  4.95114323],\n",
              "       [ 1.6258394 ,  4.90239967],\n",
              "       [ 2.82894521,  3.91445026],\n",
              "       [ 2.28966729,  5.06896877],\n",
              "       [ 2.89206152,  3.66529487],\n",
              "       [ 2.33634919,  4.77256166],\n",
              "       [ 3.67027475,  3.79730296],\n",
              "       [ 2.30717865,  4.73262822],\n",
              "       [ 3.15130599,  3.43648588],\n",
              "       [ 4.14502484,  2.94851846],\n",
              "       [ 2.17253471,  3.6488889 ],\n",
              "       [ 3.39390371,  4.13447274],\n",
              "       [ 1.59644351,  4.43875703],\n",
              "       [ 3.38348549,  4.02119623],\n",
              "       [ 5.08330979,  4.03477733],\n",
              "       [ 1.21644435,  4.31174386],\n",
              "       [ 4.15939179,  2.54939222],\n",
              "       [ 2.2392529 ,  4.33673035],\n",
              "       [ 2.99918423,  5.63946256],\n",
              "       [ 3.10384641,  3.0156258 ],\n",
              "       [ 2.47612428,  4.12508079],\n",
              "       [ 3.2447355 ,  2.49239435],\n",
              "       [ 2.03739207,  5.03815425],\n",
              "       [ 0.60211258,  5.29511732],\n",
              "       [ 4.96947578,  3.37368252],\n",
              "       [ 3.21264629,  3.83263367],\n",
              "       [ 4.37032895,  4.13833792],\n",
              "       [ 3.69323485,  3.24528272],\n",
              "       [ 3.09839038,  3.35192483],\n",
              "       [ 3.17307768,  3.69712075],\n",
              "       [ 2.73714175,  3.32335845],\n",
              "       [ 3.67894216,  3.97815432],\n",
              "       [ 2.48794954,  3.43911347],\n",
              "       [ 3.18673695,  3.40153958],\n",
              "       [ 3.18191183,  1.97043755],\n",
              "       [ 4.15883175,  2.76019051],\n",
              "       [ 2.20697823,  4.70994226],\n",
              "       [ 2.84548839,  5.14262008],\n",
              "       [ 4.59079568,  4.13744089],\n",
              "       [ 2.36254478,  4.90779038],\n",
              "       [ 2.67790849,  1.89395445],\n",
              "       [ 1.57605714,  4.64044625],\n",
              "       [ 3.6808431 ,  4.57068586],\n",
              "       [ 2.92745709,  3.82770824],\n",
              "       [ 3.20588663,  3.91087375],\n",
              "       [ 3.30360182,  3.23995077],\n",
              "       [ 2.20999864,  3.8340588 ],\n",
              "       [ 2.323852  ,  5.1822002 ],\n",
              "       [ 2.16712307,  4.52288264],\n",
              "       [ 2.39547176,  3.646189  ],\n",
              "       [ 2.69133673,  4.72790838],\n",
              "       [ 2.34153881,  2.47311439],\n",
              "       [ 3.13307241,  4.2486247 ],\n",
              "       [ 2.35244208,  4.8051259 ],\n",
              "       [ 4.61446814,  3.74614171],\n",
              "       [ 3.82434023,  4.33027249],\n",
              "       [ 3.42670212,  3.07947486],\n",
              "       [ 2.41688067,  4.77655656],\n",
              "       [ 2.09213452,  5.83065929],\n",
              "       [ 2.52633631,  3.30050546],\n",
              "       [ 1.98433543,  4.0591948 ],\n",
              "       [ 3.19426022,  4.64349128],\n",
              "       [ 2.74785473,  2.95689444],\n",
              "       [ 4.68630286,  2.65347184],\n",
              "       [ 2.45409694,  3.62006999],\n",
              "       [ 3.9820543 ,  2.87160599],\n",
              "       [ 3.10515765,  4.61927152],\n",
              "       [ 3.40675916,  4.07355771],\n",
              "       [ 0.9245533 ,  5.63827035],\n",
              "       [ 2.28599458,  3.42317721],\n",
              "       [ 4.53695806,  3.16695962],\n",
              "       [ 2.54380538,  4.69791807],\n",
              "       [ 3.25612716,  3.35591376],\n",
              "       [ 3.28681523,  3.46930694],\n",
              "       [ 4.09065723,  2.21970997],\n",
              "       [ 3.65187493,  3.71649865],\n",
              "       [ 3.29565695,  4.44706088],\n",
              "       [ 3.91887995,  4.57260046],\n",
              "       [ 1.94345872,  4.85908464],\n",
              "       [ 3.07424214,  5.0737755 ],\n",
              "       [ 2.18661739,  3.91533977],\n",
              "       [ 4.44060592,  4.34440637],\n",
              "       [ 3.5954026 ,  4.95697895],\n",
              "       [ 0.5073436 ,  5.9192382 ],\n",
              "       [ 1.78753853,  5.40214723],\n",
              "       [ 1.65929124,  4.4842585 ],\n",
              "       [ 3.61704845,  4.0744272 ],\n",
              "       [ 1.81507175,  3.96774273],\n",
              "       [ 1.89446836,  5.51508261],\n",
              "       [ 0.47337102,  5.01095642],\n",
              "       [ 1.87856262,  6.26904634],\n",
              "       [ 2.82616048,  5.059888  ],\n",
              "       [ 3.93005367,  3.31479496],\n",
              "       [ 2.71837115,  4.03463865],\n",
              "       [ 2.85523865,  5.08957878],\n",
              "       [ 1.91384322,  3.86307133],\n",
              "       [ 2.37340369,  4.28116486],\n",
              "       [ 2.90766062,  3.47571456],\n",
              "       [ 3.10693108,  3.53732794],\n",
              "       [ 1.89776309,  5.24708035],\n",
              "       [ 3.36805877,  4.00556566],\n",
              "       [ 3.83947344,  4.29243789],\n",
              "       [ 4.53045005,  4.19310798],\n",
              "       [ 2.68167384,  4.28752483],\n",
              "       [ 4.60897081,  4.83370428],\n",
              "       [ 3.19558005,  4.01577137],\n",
              "       [ 3.22978254,  4.23644138],\n",
              "       [ 2.73793138,  3.53656827],\n",
              "       [ 1.91524776,  2.77081231],\n",
              "       [ 2.8647964 ,  4.25691454],\n",
              "       [ 3.44764816,  4.92815973],\n",
              "       [ 4.51019443,  3.97253071],\n",
              "       [ 2.46086159,  5.43412805],\n",
              "       [ 3.64244117,  3.09539143],\n",
              "       [ 3.56701463,  5.52961916],\n",
              "       [ 2.65633903,  3.60123719],\n",
              "       [ 2.3126555 ,  3.09748753],\n",
              "       [ 2.11295998,  4.62970594],\n",
              "       [ 3.83530819,  4.53775661],\n",
              "       [ 2.71949043,  3.52554515],\n",
              "       [ 1.23563428,  3.74363363],\n",
              "       [ 1.94803141,  5.71886393],\n",
              "       [ 3.05150737,  4.14836328],\n",
              "       [ 1.74935573,  4.98355824],\n",
              "       [ 2.79958107,  4.26399162],\n",
              "       [ 3.13871825,  3.59740888],\n",
              "       [ 3.55801893,  3.8855882 ],\n",
              "       [ 4.19525335,  3.05764797],\n",
              "       [ 1.78582719,  5.76128228],\n",
              "       [ 3.11708136,  3.75679897],\n",
              "       [ 2.53555333,  4.61192984],\n",
              "       [ 3.63713134,  4.02121006],\n",
              "       [ 4.41009022,  3.88537402],\n",
              "       [ 3.25240922,  2.69860686],\n",
              "       [ 3.21587349,  2.74229222],\n",
              "       [ 3.92912952,  2.03379345],\n",
              "       [ 1.89903783,  4.28213808],\n",
              "       [ 3.02993506,  3.88041226],\n",
              "       [ 2.04515476,  3.79421602],\n",
              "       [ 3.31430383,  3.26783909],\n",
              "       [ 4.2635822 ,  3.80169979],\n",
              "       [ 2.75595723,  3.85442476],\n",
              "       [ 1.98737285,  5.24857102],\n",
              "       [ 4.6949494 ,  2.37725133],\n",
              "       [ 2.31702188,  5.21359801],\n",
              "       [ 1.97018475,  4.18795754],\n",
              "       [ 2.69550697,  2.54698439],\n",
              "       [ 1.53477598,  4.4978563 ],\n",
              "       [ 2.59874804,  4.18719557],\n",
              "       [ 3.32667479,  3.8889612 ],\n",
              "       [ 2.61713671,  3.95981993],\n",
              "       [ 2.92033619,  3.37746737],\n",
              "       [ 2.93282541,  4.75517339],\n",
              "       [ 1.61310107,  6.63213118],\n",
              "       [ 2.90293604,  4.59399736],\n",
              "       [ 4.02871472,  1.93268448],\n",
              "       [ 2.38771937,  4.39591838],\n",
              "       [ 3.13162922,  3.51513495],\n",
              "       [ 5.39435184,  1.71535659],\n",
              "       [ 1.71785836,  4.8777556 ],\n",
              "       [ 2.56867735,  4.17969623],\n",
              "       [ 3.48002213,  2.29931293],\n",
              "       [ 5.72949356,  3.12872352],\n",
              "       [ 0.43581707,  6.15985984],\n",
              "       [ 1.77674247,  5.05791677],\n",
              "       [ 2.53155437,  4.12932503],\n",
              "       [ 2.52825028,  3.89379843],\n",
              "       [ 2.72292452,  5.01829922],\n",
              "       [ 2.20844219,  5.34839973],\n",
              "       [ 3.42296123,  3.9384843 ],\n",
              "       [ 2.00120285,  3.11937089],\n",
              "       [ 3.20519271,  3.89155738],\n",
              "       [ 3.82712033,  4.12351604],\n",
              "       [ 3.0858227 ,  4.86586578],\n",
              "       [ 2.75143147,  3.74692602],\n",
              "       [ 4.50376468,  3.40432672],\n",
              "       [ 3.39733137,  3.75755001],\n",
              "       [ 3.41794219,  3.51911197],\n",
              "       [ 2.23896043,  4.00949209],\n",
              "       [ 2.9659104 ,  4.13566235],\n",
              "       [ 2.7041812 ,  4.32105397],\n",
              "       [ 3.76579189,  4.2561859 ],\n",
              "       [ 3.41383737,  4.26329471],\n",
              "       [ 1.44829095,  5.99609402],\n",
              "       [ 2.23539443,  4.66555364],\n",
              "       [ 3.62699991,  3.91953469],\n",
              "       [ 2.0024338 ,  5.45345399],\n",
              "       [ 2.74657148,  3.77761325],\n",
              "       [ 2.16214312,  4.00014427],\n",
              "       [ 3.84711149,  5.19598101],\n",
              "       [ 1.02609944,  6.849884  ],\n",
              "       [ 0.05152467,  0.98010834],\n",
              "       [-0.96562169,  1.54263818],\n",
              "       [-0.0384046 ,  1.15986311],\n",
              "       [ 1.32998033,  2.20492248],\n",
              "       [ 0.4267625 , -0.14492706],\n",
              "       [-0.9082646 ,  0.75740789],\n",
              "       [-0.74462846,  0.94818312],\n",
              "       [-0.01592971,  1.26267455],\n",
              "       [ 0.81631453,  1.23617605],\n",
              "       [ 1.63186992,  2.74220659],\n",
              "       [ 1.72932629,  2.0364049 ],\n",
              "       [ 1.41047037,  1.85809335],\n",
              "       [ 2.03635941,  2.08203451],\n",
              "       [-0.17794765,  1.80180037],\n",
              "       [ 0.04376139,  0.50793096],\n",
              "       [ 0.05034174,  1.85969371],\n",
              "       [ 0.84181464,  1.60221905],\n",
              "       [ 0.64295582,  1.06322825],\n",
              "       [-0.35719678,  0.75745283],\n",
              "       [-0.30936652,  0.40486153],\n",
              "       [ 0.84452019,  1.61067407],\n",
              "       [-0.0208738 ,  0.70719916],\n",
              "       [-0.20977721,  0.92442059],\n",
              "       [-1.26560254,  0.74057482],\n",
              "       [-1.09435589,  0.94227959],\n",
              "       [-0.84414463,  1.4418423 ],\n",
              "       [ 0.44457809,  1.89366764],\n",
              "       [-1.19368086, -0.01954525],\n",
              "       [-0.26580221,  0.12732931],\n",
              "       [-0.90744502,  0.98050483],\n",
              "       [-0.19245619,  1.36032203],\n",
              "       [-0.9787596 ,  1.264338  ],\n",
              "       [ 0.22287096,  1.73082834],\n",
              "       [ 1.124024  ,  1.80038445],\n",
              "       [-1.28371794,  0.1340895 ],\n",
              "       [ 0.39200149,  0.8244133 ],\n",
              "       [ 0.17172657,  2.18030806],\n",
              "       [-0.07031094,  0.62592476],\n",
              "       [ 0.16453158,  1.85817466],\n",
              "       [-0.70026822,  0.04516639],\n",
              "       [-0.51948285,  1.31735576],\n",
              "       [-1.60922114,  0.69678423],\n",
              "       [ 1.16824915,  1.29119004],\n",
              "       [ 0.69801618,  1.83576263],\n",
              "       [-1.31942684,  0.32722143],\n",
              "       [ 0.4974999 ,  0.83896415],\n",
              "       [-0.37758569,  1.37916011],\n",
              "       [ 1.97232367,  1.30481967],\n",
              "       [ 1.15897124,  1.35398136],\n",
              "       [ 0.03137787,  1.21879161],\n",
              "       [-0.1663347 ,  0.26456566],\n",
              "       [-1.27632312,  1.03825197],\n",
              "       [ 1.98442349,  2.19557353],\n",
              "       [ 0.86333341,  0.70463669],\n",
              "       [-0.78290686,  0.64929574],\n",
              "       [ 0.68457051,  1.51688068],\n",
              "       [ 0.19990872,  0.32525088],\n",
              "       [ 0.52010418,  1.60027593],\n",
              "       [ 1.03314409,  2.53409433],\n",
              "       [-1.75242778,  1.12996124],\n",
              "       [-1.25596728,  1.89391368],\n",
              "       [ 1.46417625,  0.40852313],\n",
              "       [-0.88561866,  0.67429504],\n",
              "       [-1.54315458,  0.33101669],\n",
              "       [ 0.51586645,  0.97712412],\n",
              "       [ 0.20244867,  1.15297393],\n",
              "       [ 0.5945683 ,  1.4484356 ],\n",
              "       [-1.52070206, -0.03071408],\n",
              "       [ 0.79966805,  2.28957314],\n",
              "       [ 0.19383241,  1.10847749],\n",
              "       [ 0.09511323,  0.72216935],\n",
              "       [-1.83491187,  0.58993401],\n",
              "       [-2.26075649,  0.4748583 ],\n",
              "       [-0.61614867,  0.51332299],\n",
              "       [ 0.81072247,  1.38205995],\n",
              "       [-0.40825189,  0.69247803],\n",
              "       [ 0.97470632,  1.69916866],\n",
              "       [-0.64488028,  0.13950991],\n",
              "       [-0.53576697, -0.42725726],\n",
              "       [-0.44673948,  0.39442313],\n",
              "       [ 0.35313046,  2.58971674],\n",
              "       [ 0.52991511,  0.73730215],\n",
              "       [-0.68851096,  0.44992686],\n",
              "       [-0.43366679, -0.03749477],\n",
              "       [-1.21056762, -0.3103894 ],\n",
              "       [-0.16276547,  0.3482789 ],\n",
              "       [ 0.63869619,  0.12579976],\n",
              "       [-1.11418101,  0.34021499],\n",
              "       [-0.29015181, -0.19005801],\n",
              "       [ 0.43666721,  1.05481581],\n",
              "       [-0.42100349, -0.19149351],\n",
              "       [-0.99230651,  0.83544424],\n",
              "       [-0.17874325,  1.20829439],\n",
              "       [-0.88861105,  0.78937675],\n",
              "       [ 0.16099552,  1.50604104],\n",
              "       [-1.27588892, -0.16940926],\n",
              "       [-0.73552512, -0.12297833],\n",
              "       [-3.1271992 , -0.72069566],\n",
              "       [-0.11784564,  0.95187713],\n",
              "       [ 0.56485281,  0.90053776],\n",
              "       [ 0.19901465,  1.32580617],\n",
              "       [-0.44147835,  0.0083557 ],\n",
              "       [-1.22127101,  0.65153281],\n",
              "       [ 0.75670456,  1.84559747],\n",
              "       [-0.03292948,  0.72625097],\n",
              "       [ 0.4262373 ,  0.32664654],\n",
              "       [-0.66623248,  1.38178742],\n",
              "       [ 1.02802203,  1.5292826 ],\n",
              "       [ 0.81145086,  1.36469983],\n",
              "       [ 0.74373034,  0.8309087 ],\n",
              "       [ 0.30999438,  1.4711523 ],\n",
              "       [ 1.81019139,  2.84678918],\n",
              "       [-0.35310715,  0.40779954],\n",
              "       [-0.01384928,  2.15466352],\n",
              "       [ 0.43571474,  1.64393272],\n",
              "       [ 0.69174106,  0.43429393],\n",
              "       [ 0.70047505,  1.85416258],\n",
              "       [ 0.46383346,  0.32726873],\n",
              "       [ 0.40644626,  1.6764517 ],\n",
              "       [ 0.95578276,  1.93198428],\n",
              "       [-1.55657749, -0.64968064],\n",
              "       [-1.34096842,  1.15580704],\n",
              "       [-0.22928052,  0.40511038],\n",
              "       [-0.09663749,  1.45001232],\n",
              "       [ 0.05786182,  0.90537313],\n",
              "       [-0.90663136, -0.12080377],\n",
              "       [ 0.14170214,  1.71040743],\n",
              "       [ 1.65935986,  2.19452497],\n",
              "       [-0.47848898,  2.03534337],\n",
              "       [ 0.26187086,  0.3389718 ],\n",
              "       [-1.82889201,  0.24918387],\n",
              "       [-0.02490438,  0.75287958],\n",
              "       [ 0.65199215,  1.34598421],\n",
              "       [ 1.0509822 ,  1.02916502],\n",
              "       [ 0.21453424,  2.07330323],\n",
              "       [-0.0349242 ,  1.86136848],\n",
              "       [-1.64871436,  0.09975032],\n",
              "       [ 0.14652598,  1.43852602],\n",
              "       [-1.42779987,  1.26024357],\n",
              "       [ 1.20998502,  1.86706983],\n",
              "       [ 1.54807134,  2.03164728],\n",
              "       [-1.21477856, -0.20507726],\n",
              "       [ 1.62625039,  1.16129631],\n",
              "       [ 0.05550105,  1.00897311],\n",
              "       [ 0.40730874,  1.21706458],\n",
              "       [-0.09475031,  0.78098366],\n",
              "       [-1.38526127,  0.25633006],\n",
              "       [ 0.28422973,  0.96592514],\n",
              "       [ 1.07329112,  2.31620201],\n",
              "       [-0.16278352, -0.06822914],\n",
              "       [ 0.37875618,  1.67224333],\n",
              "       [-0.76031838,  1.33444967],\n",
              "       [-0.53872398, -0.06106671],\n",
              "       [-1.3480613 ,  0.5391807 ],\n",
              "       [ 0.8493378 ,  1.5847846 ],\n",
              "       [-0.84164408,  0.56155873],\n",
              "       [-0.65324807,  1.81842374],\n",
              "       [ 0.39442622,  1.62842925],\n",
              "       [ 0.66997303,  0.82487352],\n",
              "       [-0.44509125,  0.22864458],\n",
              "       [ 1.32759496,  1.53546323],\n",
              "       [-0.43337466, -0.45197962],\n",
              "       [ 1.16421902,  1.4844649 ],\n",
              "       [ 0.46526246,  1.18254402],\n",
              "       [-0.23569548,  2.22208534],\n",
              "       [-1.65457845, -0.35577968],\n",
              "       [ 0.3508647 , -0.66509032],\n",
              "       [ 0.93441431,  2.50514637],\n",
              "       [-1.13721476,  0.07156738],\n",
              "       [ 0.5582984 ,  0.93354887],\n",
              "       [-0.67741244,  1.61881671],\n",
              "       [-1.3477257 , -0.6515689 ],\n",
              "       [ 0.01861143,  1.30514042],\n",
              "       [ 1.22908985,  1.19444233],\n",
              "       [-0.63805939,  1.41888598],\n",
              "       [ 0.50820377,  2.06225317],\n",
              "       [-0.20977065,  1.66794175],\n",
              "       [-1.14772736,  0.56508936],\n",
              "       [-0.96111709,  0.9932576 ],\n",
              "       [ 0.68478417,  2.98360643],\n",
              "       [ 0.65035689,  1.15899473],\n",
              "       [-1.7580855 ,  1.00625568],\n",
              "       [ 0.26412506,  1.39896241],\n",
              "       [-0.2853563 ,  1.22521862],\n",
              "       [ 1.386236  ,  2.04631046],\n",
              "       [-0.1003743 ,  1.19791665],\n",
              "       [-0.56893866,  0.36345923],\n",
              "       [-0.74823522,  0.30166248],\n",
              "       [ 0.94091117,  1.10141461],\n",
              "       [-1.14704367,  0.55017264],\n",
              "       [-0.5628373 ,  0.27017284],\n",
              "       [ 0.00717591,  0.53080432],\n",
              "       [-1.31976544,  0.21188179],\n",
              "       [ 0.16843331,  1.335027  ],\n",
              "       [-1.12207722,  0.05917188],\n",
              "       [ 1.38923089,  2.59258407],\n",
              "       [-0.35276782,  0.13646095],\n",
              "       [ 0.78962568,  0.93166981],\n",
              "       [-1.00253042, -0.67616247],\n",
              "       [ 0.29238678,  0.56117782]])"
            ]
          },
          "metadata": {
            "tags": []
          },
          "execution_count": 24
        }
      ]
    },
    {
      "cell_type": "code",
      "metadata": {
        "id": "RJ0kF-VUwhBH",
        "colab_type": "code",
        "colab": {}
      },
      "source": [
        "Ydata = Ydata.values"
      ],
      "execution_count": 0,
      "outputs": []
    },
    {
      "cell_type": "code",
      "metadata": {
        "id": "Ky7dTXCuwzQt",
        "colab_type": "code",
        "colab": {}
      },
      "source": [
        "Ydata = Ydata[:,1:]"
      ],
      "execution_count": 0,
      "outputs": []
    },
    {
      "cell_type": "code",
      "metadata": {
        "id": "-nRfZKjGw6Hf",
        "colab_type": "code",
        "colab": {
          "base_uri": "https://localhost:8080/",
          "height": 287
        },
        "outputId": "e3c8cc12-9b3f-4eb5-8e56-d462fd68ffb1"
      },
      "source": [
        "import matplotlib.pyplot as plt\n",
        "plt.scatter(Xdata[:,0],Xdata[:,1],c = Ydata[:,0])\n",
        "plt.scatter(1,2)"
      ],
      "execution_count": 36,
      "outputs": [
        {
          "output_type": "execute_result",
          "data": {
            "text/plain": [
              "<matplotlib.collections.PathCollection at 0x7f4b2e158da0>"
            ]
          },
          "metadata": {
            "tags": []
          },
          "execution_count": 36
        },
        {
          "output_type": "display_data",
          "data": {
            "image/png": "[encoded data removed]",
            "text/plain": [
              "<Figure size 432x288 with 1 Axes>"
            ]
          },
          "metadata": {
            "tags": []
          }
        }
      ]
    },
    {
      "cell_type": "code",
      "metadata": {
        "id": "43JyJnodxvwU",
        "colab_type": "code",
        "colab": {
          "base_uri": "https://localhost:8080/",
          "height": 287
        },
        "outputId": "ec034115-0299-4154-90d5-44142266c797"
      },
      "source": [
        "x = [1,2,3,4,5]\n",
        "y = [2,3,4,5,6]\n",
        "z = [1,0,1,0,1]\n",
        "plt.scatter(x,y,c=z)"
      ],
      "execution_count": 31,
      "outputs": [
        {
          "output_type": "execute_result",
          "data": {
            "text/plain": [
              "<matplotlib.collections.PathCollection at 0x7f4b2e27c9e8>"
            ]
          },
          "metadata": {
            "tags": []
          },
          "execution_count": 31
        },
        {
          "output_type": "display_data",
          "data": {
            "image/png": "[encoded data removed]",
            "text/plain": [
              "<Figure size 432x288 with 1 Axes>"
            ]
          },
          "metadata": {
            "tags": []
          }
        }
      ]
    },
    {
      "cell_type": "code",
      "metadata": {
        "id": "gdvpnwYyyNr2",
        "colab_type": "code",
        "colab": {}
      },
      "source": [
        "def KNN(X,Y,point,K =11):\n",
        "  lis = []\n",
        "  for i in range(X.shape[0]):\n",
        "    dis = np.sqrt(np.sum((X[i]-point)**2))\n",
        "    lis.append([dis,Y[i]])\n",
        "    \n",
        "  lis.sort()\n",
        "  count0 = 0\n",
        "  count1 = 0\n",
        "  for i in range(K):\n",
        "    if(lis[i][1]==0):\n",
        "      count0 = count0 + 1\n",
        "    else:\n",
        "      count1 = count1+ 1\n",
        "      \n",
        "  if(count0>count1):\n",
        "    return 0\n",
        "  else:\n",
        "    return 1"
      ],
      "execution_count": 0,
      "outputs": []
    },
    {
      "cell_type": "code",
      "metadata": {
        "id": "LVOxHgLA3TM7",
        "colab_type": "code",
        "colab": {
          "base_uri": "https://localhost:8080/",
          "height": 306
        },
        "outputId": "c0dcf56d-c36f-4de9-d624-7ca0c96b3414"
      },
      "source": [
        "import numpy as np\n",
        "point = np.array([3,5])\n",
        "ans = KNN(Xdata,Ydata,point)\n",
        "print(ans)\n",
        "plt.scatter(Xdata[:,0],Xdata[:,1],c = Ydata[:,0])\n",
        "plt.scatter(point[0],point[1])"
      ],
      "execution_count": 46,
      "outputs": [
        {
          "output_type": "stream",
          "text": [
            "0\n"
          ],
          "name": "stdout"
        },
        {
          "output_type": "execute_result",
          "data": {
            "text/plain": [
              "<matplotlib.collections.PathCollection at 0x7f4b2e0aada0>"
            ]
          },
          "metadata": {
            "tags": []
          },
          "execution_count": 46
        },
        {
          "output_type": "display_data",
          "data": {
            "image/png": "[encoded data removed]",
            "text/plain": [
              "<Figure size 432x288 with 1 Axes>"
            ]
          },
          "metadata": {
            "tags": []
          }
        }
      ]
    },
    {
      "cell_type": "code",
      "metadata": {
        "id": "DkINuLwT3qdH",
        "colab_type": "code",
        "colab": {}
      },
      "source": [
        "Xdata = pd.read_csv(\"./sample_data/mnist_train_small.csv\")"
      ],
      "execution_count": 0,
      "outputs": []
    },
    {
      "cell_type": "code",
      "metadata": {
        "id": "i0OXambT4ist",
        "colab_type": "code",
        "colab": {
          "base_uri": "https://localhost:8080/",
          "height": 256
        },
        "outputId": "4545a149-2cf7-4ecb-dddc-b79cae1af309"
      },
      "source": [
        "Xdata.head()"
      ],
      "execution_count": 51,
      "outputs": [
        {
          "output_type": "execute_result",
          "data": {
            "text/html": [
              "<div>\n",
              "<style scoped>\n",
              "    .dataframe tbody tr th:only-of-type {\n",
              "        vertical-align: middle;\n",
              "    }\n",
              "\n",
              "    .dataframe tbody tr th {\n",
              "        vertical-align: top;\n",
              "    }\n",
              "\n",
              "    .dataframe thead th {\n",
              "        text-align: right;\n",
              "    }\n",
              "</style>\n",
              "<table border=\"1\" class=\"dataframe\">\n",
              "  <thead>\n",
              "    <tr style=\"text-align: right;\">\n",
              "      <th></th>\n",
              "      <th>6</th>\n",
              "      <th>0</th>\n",
              "      <th>0.1</th>\n",
              "      <th>0.2</th>\n",
              "      <th>0.3</th>\n",
              "      <th>0.4</th>\n",
              "      <th>0.5</th>\n",
              "      <th>0.6</th>\n",
              "      <th>0.7</th>\n",
              "      <th>0.8</th>\n",
              "      <th>0.9</th>\n",
              "      <th>0.10</th>\n",
              "      <th>0.11</th>\n",
              "      <th>0.12</th>\n",
              "      <th>0.13</th>\n",
              "      <th>0.14</th>\n",
              "      <th>0.15</th>\n",
              "      <th>0.16</th>\n",
              "      <th>0.17</th>\n",
              "      <th>0.18</th>\n",
              "      <th>0.19</th>\n",
              "      <th>0.20</th>\n",
              "      <th>0.21</th>\n",
              "      <th>0.22</th>\n",
              "      <th>0.23</th>\n",
              "      <th>0.24</th>\n",
              "      <th>0.25</th>\n",
              "      <th>0.26</th>\n",
              "      <th>0.27</th>\n",
              "      <th>0.28</th>\n",
              "      <th>0.29</th>\n",
              "      <th>0.30</th>\n",
              "      <th>0.31</th>\n",
              "      <th>0.32</th>\n",
              "      <th>0.33</th>\n",
              "      <th>0.34</th>\n",
              "      <th>0.35</th>\n",
              "      <th>0.36</th>\n",
              "      <th>0.37</th>\n",
              "      <th>0.38</th>\n",
              "      <th>...</th>\n",
              "      <th>0.551</th>\n",
              "      <th>0.552</th>\n",
              "      <th>0.553</th>\n",
              "      <th>0.554</th>\n",
              "      <th>0.555</th>\n",
              "      <th>0.556</th>\n",
              "      <th>0.557</th>\n",
              "      <th>0.558</th>\n",
              "      <th>0.559</th>\n",
              "      <th>0.560</th>\n",
              "      <th>0.561</th>\n",
              "      <th>0.562</th>\n",
              "      <th>0.563</th>\n",
              "      <th>0.564</th>\n",
              "      <th>0.565</th>\n",
              "      <th>0.566</th>\n",
              "      <th>0.567</th>\n",
              "      <th>0.568</th>\n",
              "      <th>0.569</th>\n",
              "      <th>0.570</th>\n",
              "      <th>0.571</th>\n",
              "      <th>0.572</th>\n",
              "      <th>0.573</th>\n",
              "      <th>0.574</th>\n",
              "      <th>0.575</th>\n",
              "      <th>0.576</th>\n",
              "      <th>0.577</th>\n",
              "      <th>0.578</th>\n",
              "      <th>0.579</th>\n",
              "      <th>0.580</th>\n",
              "      <th>0.581</th>\n",
              "      <th>0.582</th>\n",
              "      <th>0.583</th>\n",
              "      <th>0.584</th>\n",
              "      <th>0.585</th>\n",
              "      <th>0.586</th>\n",
              "      <th>0.587</th>\n",
              "      <th>0.588</th>\n",
              "      <th>0.589</th>\n",
              "      <th>0.590</th>\n",
              "    </tr>\n",
              "  </thead>\n",
              "  <tbody>\n",
              "    <tr>\n",
              "      <th>0</th>\n",
              "      <td>5</td>\n",
              "      <td>0</td>\n",
              "      <td>0</td>\n",
              "      <td>0</td>\n",
              "      <td>0</td>\n",
              "      <td>0</td>\n",
              "      <td>0</td>\n",
              "      <td>0</td>\n",
              "      <td>0</td>\n",
              "      <td>0</td>\n",
              "      <td>0</td>\n",
              "      <td>0</td>\n",
              "      <td>0</td>\n",
              "      <td>0</td>\n",
              "      <td>0</td>\n",
              "      <td>0</td>\n",
              "      <td>0</td>\n",
              "      <td>0</td>\n",
              "      <td>0</td>\n",
              "      <td>0</td>\n",
              "      <td>0</td>\n",
              "      <td>0</td>\n",
              "      <td>0</td>\n",
              "      <td>0</td>\n",
              "      <td>0</td>\n",
              "      <td>0</td>\n",
              "      <td>0</td>\n",
              "      <td>0</td>\n",
              "      <td>0</td>\n",
              "      <td>0</td>\n",
              "      <td>0</td>\n",
              "      <td>0</td>\n",
              "      <td>0</td>\n",
              "      <td>0</td>\n",
              "      <td>0</td>\n",
              "      <td>0</td>\n",
              "      <td>0</td>\n",
              "      <td>0</td>\n",
              "      <td>0</td>\n",
              "      <td>0</td>\n",
              "      <td>...</td>\n",
              "      <td>0</td>\n",
              "      <td>0</td>\n",
              "      <td>0</td>\n",
              "      <td>0</td>\n",
              "      <td>0</td>\n",
              "      <td>0</td>\n",
              "      <td>0</td>\n",
              "      <td>0</td>\n",
              "      <td>0</td>\n",
              "      <td>0</td>\n",
              "      <td>0</td>\n",
              "      <td>0</td>\n",
              "      <td>0</td>\n",
              "      <td>0</td>\n",
              "      <td>0</td>\n",
              "      <td>0</td>\n",
              "      <td>0</td>\n",
              "      <td>0</td>\n",
              "      <td>0</td>\n",
              "      <td>0</td>\n",
              "      <td>0</td>\n",
              "      <td>0</td>\n",
              "      <td>0</td>\n",
              "      <td>0</td>\n",
              "      <td>0</td>\n",
              "      <td>0</td>\n",
              "      <td>0</td>\n",
              "      <td>0</td>\n",
              "      <td>0</td>\n",
              "      <td>0</td>\n",
              "      <td>0</td>\n",
              "      <td>0</td>\n",
              "      <td>0</td>\n",
              "      <td>0</td>\n",
              "      <td>0</td>\n",
              "      <td>0</td>\n",
              "      <td>0</td>\n",
              "      <td>0</td>\n",
              "      <td>0</td>\n",
              "      <td>0</td>\n",
              "    </tr>\n",
              "    <tr>\n",
              "      <th>1</th>\n",
              "      <td>7</td>\n",
              "      <td>0</td>\n",
              "      <td>0</td>\n",
              "      <td>0</td>\n",
              "      <td>0</td>\n",
              "      <td>0</td>\n",
              "      <td>0</td>\n",
              "      <td>0</td>\n",
              "      <td>0</td>\n",
              "      <td>0</td>\n",
              "      <td>0</td>\n",
              "      <td>0</td>\n",
              "      <td>0</td>\n",
              "      <td>0</td>\n",
              "      <td>0</td>\n",
              "      <td>0</td>\n",
              "      <td>0</td>\n",
              "      <td>0</td>\n",
              "      <td>0</td>\n",
              "      <td>0</td>\n",
              "      <td>0</td>\n",
              "      <td>0</td>\n",
              "      <td>0</td>\n",
              "      <td>0</td>\n",
              "      <td>0</td>\n",
              "      <td>0</td>\n",
              "      <td>0</td>\n",
              "      <td>0</td>\n",
              "      <td>0</td>\n",
              "      <td>0</td>\n",
              "      <td>0</td>\n",
              "      <td>0</td>\n",
              "      <td>0</td>\n",
              "      <td>0</td>\n",
              "      <td>0</td>\n",
              "      <td>0</td>\n",
              "      <td>0</td>\n",
              "      <td>0</td>\n",
              "      <td>0</td>\n",
              "      <td>0</td>\n",
              "      <td>...</td>\n",
              "      <td>0</td>\n",
              "      <td>0</td>\n",
              "      <td>0</td>\n",
              "      <td>0</td>\n",
              "      <td>0</td>\n",
              "      <td>0</td>\n",
              "      <td>0</td>\n",
              "      <td>0</td>\n",
              "      <td>0</td>\n",
              "      <td>0</td>\n",
              "      <td>0</td>\n",
              "      <td>0</td>\n",
              "      <td>0</td>\n",
              "      <td>0</td>\n",
              "      <td>0</td>\n",
              "      <td>0</td>\n",
              "      <td>0</td>\n",
              "      <td>0</td>\n",
              "      <td>0</td>\n",
              "      <td>0</td>\n",
              "      <td>0</td>\n",
              "      <td>0</td>\n",
              "      <td>0</td>\n",
              "      <td>0</td>\n",
              "      <td>0</td>\n",
              "      <td>0</td>\n",
              "      <td>0</td>\n",
              "      <td>0</td>\n",
              "      <td>0</td>\n",
              "      <td>0</td>\n",
              "      <td>0</td>\n",
              "      <td>0</td>\n",
              "      <td>0</td>\n",
              "      <td>0</td>\n",
              "      <td>0</td>\n",
              "      <td>0</td>\n",
              "      <td>0</td>\n",
              "      <td>0</td>\n",
              "      <td>0</td>\n",
              "      <td>0</td>\n",
              "    </tr>\n",
              "    <tr>\n",
              "      <th>2</th>\n",
              "      <td>9</td>\n",
              "      <td>0</td>\n",
              "      <td>0</td>\n",
              "      <td>0</td>\n",
              "      <td>0</td>\n",
              "      <td>0</td>\n",
              "      <td>0</td>\n",
              "      <td>0</td>\n",
              "      <td>0</td>\n",
              "      <td>0</td>\n",
              "      <td>0</td>\n",
              "      <td>0</td>\n",
              "      <td>0</td>\n",
              "      <td>0</td>\n",
              "      <td>0</td>\n",
              "      <td>0</td>\n",
              "      <td>0</td>\n",
              "      <td>0</td>\n",
              "      <td>0</td>\n",
              "      <td>0</td>\n",
              "      <td>0</td>\n",
              "      <td>0</td>\n",
              "      <td>0</td>\n",
              "      <td>0</td>\n",
              "      <td>0</td>\n",
              "      <td>0</td>\n",
              "      <td>0</td>\n",
              "      <td>0</td>\n",
              "      <td>0</td>\n",
              "      <td>0</td>\n",
              "      <td>0</td>\n",
              "      <td>0</td>\n",
              "      <td>0</td>\n",
              "      <td>0</td>\n",
              "      <td>0</td>\n",
              "      <td>0</td>\n",
              "      <td>0</td>\n",
              "      <td>0</td>\n",
              "      <td>0</td>\n",
              "      <td>0</td>\n",
              "      <td>...</td>\n",
              "      <td>15</td>\n",
              "      <td>0</td>\n",
              "      <td>0</td>\n",
              "      <td>0</td>\n",
              "      <td>0</td>\n",
              "      <td>0</td>\n",
              "      <td>0</td>\n",
              "      <td>0</td>\n",
              "      <td>0</td>\n",
              "      <td>0</td>\n",
              "      <td>0</td>\n",
              "      <td>0</td>\n",
              "      <td>0</td>\n",
              "      <td>0</td>\n",
              "      <td>0</td>\n",
              "      <td>0</td>\n",
              "      <td>0</td>\n",
              "      <td>0</td>\n",
              "      <td>0</td>\n",
              "      <td>0</td>\n",
              "      <td>0</td>\n",
              "      <td>0</td>\n",
              "      <td>0</td>\n",
              "      <td>0</td>\n",
              "      <td>0</td>\n",
              "      <td>0</td>\n",
              "      <td>0</td>\n",
              "      <td>0</td>\n",
              "      <td>0</td>\n",
              "      <td>0</td>\n",
              "      <td>0</td>\n",
              "      <td>0</td>\n",
              "      <td>0</td>\n",
              "      <td>0</td>\n",
              "      <td>0</td>\n",
              "      <td>0</td>\n",
              "      <td>0</td>\n",
              "      <td>0</td>\n",
              "      <td>0</td>\n",
              "      <td>0</td>\n",
              "    </tr>\n",
              "    <tr>\n",
              "      <th>3</th>\n",
              "      <td>5</td>\n",
              "      <td>0</td>\n",
              "      <td>0</td>\n",
              "      <td>0</td>\n",
              "      <td>0</td>\n",
              "      <td>0</td>\n",
              "      <td>0</td>\n",
              "      <td>0</td>\n",
              "      <td>0</td>\n",
              "      <td>0</td>\n",
              "      <td>0</td>\n",
              "      <td>0</td>\n",
              "      <td>0</td>\n",
              "      <td>0</td>\n",
              "      <td>0</td>\n",
              "      <td>0</td>\n",
              "      <td>0</td>\n",
              "      <td>0</td>\n",
              "      <td>0</td>\n",
              "      <td>0</td>\n",
              "      <td>0</td>\n",
              "      <td>0</td>\n",
              "      <td>0</td>\n",
              "      <td>0</td>\n",
              "      <td>0</td>\n",
              "      <td>0</td>\n",
              "      <td>0</td>\n",
              "      <td>0</td>\n",
              "      <td>0</td>\n",
              "      <td>0</td>\n",
              "      <td>0</td>\n",
              "      <td>0</td>\n",
              "      <td>0</td>\n",
              "      <td>0</td>\n",
              "      <td>0</td>\n",
              "      <td>0</td>\n",
              "      <td>0</td>\n",
              "      <td>0</td>\n",
              "      <td>0</td>\n",
              "      <td>0</td>\n",
              "      <td>...</td>\n",
              "      <td>0</td>\n",
              "      <td>0</td>\n",
              "      <td>0</td>\n",
              "      <td>0</td>\n",
              "      <td>0</td>\n",
              "      <td>0</td>\n",
              "      <td>0</td>\n",
              "      <td>0</td>\n",
              "      <td>0</td>\n",
              "      <td>0</td>\n",
              "      <td>0</td>\n",
              "      <td>0</td>\n",
              "      <td>0</td>\n",
              "      <td>0</td>\n",
              "      <td>0</td>\n",
              "      <td>0</td>\n",
              "      <td>0</td>\n",
              "      <td>0</td>\n",
              "      <td>0</td>\n",
              "      <td>0</td>\n",
              "      <td>0</td>\n",
              "      <td>0</td>\n",
              "      <td>0</td>\n",
              "      <td>0</td>\n",
              "      <td>0</td>\n",
              "      <td>0</td>\n",
              "      <td>0</td>\n",
              "      <td>0</td>\n",
              "      <td>0</td>\n",
              "      <td>0</td>\n",
              "      <td>0</td>\n",
              "      <td>0</td>\n",
              "      <td>0</td>\n",
              "      <td>0</td>\n",
              "      <td>0</td>\n",
              "      <td>0</td>\n",
              "      <td>0</td>\n",
              "      <td>0</td>\n",
              "      <td>0</td>\n",
              "      <td>0</td>\n",
              "    </tr>\n",
              "    <tr>\n",
              "      <th>4</th>\n",
              "      <td>2</td>\n",
              "      <td>0</td>\n",
              "      <td>0</td>\n",
              "      <td>0</td>\n",
              "      <td>0</td>\n",
              "      <td>0</td>\n",
              "      <td>0</td>\n",
              "      <td>0</td>\n",
              "      <td>0</td>\n",
              "      <td>0</td>\n",
              "      <td>0</td>\n",
              "      <td>0</td>\n",
              "      <td>0</td>\n",
              "      <td>0</td>\n",
              "      <td>0</td>\n",
              "      <td>0</td>\n",
              "      <td>0</td>\n",
              "      <td>0</td>\n",
              "      <td>0</td>\n",
              "      <td>0</td>\n",
              "      <td>0</td>\n",
              "      <td>0</td>\n",
              "      <td>0</td>\n",
              "      <td>0</td>\n",
              "      <td>0</td>\n",
              "      <td>0</td>\n",
              "      <td>0</td>\n",
              "      <td>0</td>\n",
              "      <td>0</td>\n",
              "      <td>0</td>\n",
              "      <td>0</td>\n",
              "      <td>0</td>\n",
              "      <td>0</td>\n",
              "      <td>0</td>\n",
              "      <td>0</td>\n",
              "      <td>0</td>\n",
              "      <td>0</td>\n",
              "      <td>0</td>\n",
              "      <td>0</td>\n",
              "      <td>0</td>\n",
              "      <td>...</td>\n",
              "      <td>0</td>\n",
              "      <td>0</td>\n",
              "      <td>0</td>\n",
              "      <td>0</td>\n",
              "      <td>0</td>\n",
              "      <td>0</td>\n",
              "      <td>0</td>\n",
              "      <td>0</td>\n",
              "      <td>0</td>\n",
              "      <td>0</td>\n",
              "      <td>0</td>\n",
              "      <td>0</td>\n",
              "      <td>0</td>\n",
              "      <td>0</td>\n",
              "      <td>0</td>\n",
              "      <td>0</td>\n",
              "      <td>0</td>\n",
              "      <td>0</td>\n",
              "      <td>0</td>\n",
              "      <td>0</td>\n",
              "      <td>0</td>\n",
              "      <td>0</td>\n",
              "      <td>0</td>\n",
              "      <td>0</td>\n",
              "      <td>0</td>\n",
              "      <td>0</td>\n",
              "      <td>0</td>\n",
              "      <td>0</td>\n",
              "      <td>0</td>\n",
              "      <td>0</td>\n",
              "      <td>0</td>\n",
              "      <td>0</td>\n",
              "      <td>0</td>\n",
              "      <td>0</td>\n",
              "      <td>0</td>\n",
              "      <td>0</td>\n",
              "      <td>0</td>\n",
              "      <td>0</td>\n",
              "      <td>0</td>\n",
              "      <td>0</td>\n",
              "    </tr>\n",
              "  </tbody>\n",
              "</table>\n",
              "<p>5 rows × 785 columns</p>\n",
              "</div>"
            ],
            "text/plain": [
              "   6  0  0.1  0.2  0.3  0.4  ...  0.585  0.586  0.587  0.588  0.589  0.590\n",
              "0  5  0    0    0    0    0  ...      0      0      0      0      0      0\n",
              "1  7  0    0    0    0    0  ...      0      0      0      0      0      0\n",
              "2  9  0    0    0    0    0  ...      0      0      0      0      0      0\n",
              "3  5  0    0    0    0    0  ...      0      0      0      0      0      0\n",
              "4  2  0    0    0    0    0  ...      0      0      0      0      0      0\n",
              "\n",
              "[5 rows x 785 columns]"
            ]
          },
          "metadata": {
            "tags": []
          },
          "execution_count": 51
        }
      ]
    },
    {
      "cell_type": "code",
      "metadata": {
        "id": "oWbXDmmb4v0C",
        "colab_type": "code",
        "colab": {}
      },
      "source": [
        "Xdata = Xdata.values"
      ],
      "execution_count": 0,
      "outputs": []
    },
    {
      "cell_type": "code",
      "metadata": {
        "id": "egDBdTvJ5Vy_",
        "colab_type": "code",
        "colab": {}
      },
      "source": [
        "d = Xdata[3,1:]"
      ],
      "execution_count": 0,
      "outputs": []
    },
    {
      "cell_type": "code",
      "metadata": {
        "id": "sD2cGtP35ijW",
        "colab_type": "code",
        "colab": {
          "base_uri": "https://localhost:8080/",
          "height": 35
        },
        "outputId": "f0f398b6-efa9-4280-d617-60b449efd6e0"
      },
      "source": [
        "d.shape"
      ],
      "execution_count": 64,
      "outputs": [
        {
          "output_type": "execute_result",
          "data": {
            "text/plain": [
              "(784,)"
            ]
          },
          "metadata": {
            "tags": []
          },
          "execution_count": 64
        }
      ]
    },
    {
      "cell_type": "code",
      "metadata": {
        "id": "t_yFsazj5qkE",
        "colab_type": "code",
        "colab": {}
      },
      "source": [
        "d = d.reshape(28,28)"
      ],
      "execution_count": 0,
      "outputs": []
    },
    {
      "cell_type": "code",
      "metadata": {
        "id": "xEbelB7f5zWM",
        "colab_type": "code",
        "colab": {
          "base_uri": "https://localhost:8080/",
          "height": 287
        },
        "outputId": "4568bfe7-89d3-4b17-c42e-fc0d85339e5e"
      },
      "source": [
        "plt.imshow(d)"
      ],
      "execution_count": 66,
      "outputs": [
        {
          "output_type": "execute_result",
          "data": {
            "text/plain": [
              "<matplotlib.image.AxesImage at 0x7f4b30b1c668>"
            ]
          },
          "metadata": {
            "tags": []
          },
          "execution_count": 66
        },
        {
          "output_type": "display_data",
          "data": {
            "image/png": "[encoded data removed]",
            "text/plain": [
              "<Figure size 432x288 with 1 Axes>"
            ]
          },
          "metadata": {
            "tags": []
          }
        }
      ]
    },
    {
      "cell_type": "code",
      "metadata": {
        "id": "osJubWLr53lR",
        "colab_type": "code",
        "colab": {}
      },
      "source": [
        ""
      ],
      "execution_count": 0,
      "outputs": []
    }
  ]
}